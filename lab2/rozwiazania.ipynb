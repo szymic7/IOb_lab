{
 "cells": [
  {
   "cell_type": "markdown",
   "metadata": {},
   "source": [
    "# Zadanie 1"
   ]
  },
  {
   "cell_type": "code",
   "execution_count": 1,
   "metadata": {},
   "outputs": [
    {
     "name": "stdout",
     "output_type": "stream",
     "text": [
      "I love Python\n",
      "/usr/bin/python3\n"
     ]
    }
   ],
   "source": [
    "print(\"I love Python\")\n",
    "\n",
    "!which python3"
   ]
  },
  {
   "cell_type": "markdown",
   "metadata": {},
   "source": [
    "# Zadanie 2"
   ]
  },
  {
   "cell_type": "code",
   "execution_count": 2,
   "metadata": {},
   "outputs": [
    {
     "name": "stdout",
     "output_type": "stream",
     "text": [
      "12.566370614359172\n"
     ]
    }
   ],
   "source": [
    "import numpy as np\n",
    "\n",
    "r = 2\n",
    "circle_area = np.pi * r ** 2\n",
    "\n",
    "print(circle_area)"
   ]
  },
  {
   "cell_type": "markdown",
   "metadata": {},
   "source": [
    "# Zadanie 3"
   ]
  },
  {
   "cell_type": "code",
   "execution_count": 3,
   "metadata": {},
   "outputs": [
    {
     "name": "stdout",
     "output_type": "stream",
     "text": [
      "Saving to file finished with success\n"
     ]
    }
   ],
   "source": [
    "import numpy as np\n",
    "\n",
    "def calculate_expression(x):\n",
    "    return  x**2 + 3*x - 7 + np.sin(x)\n",
    "\n",
    "def process_input(input_filename, output_filename):\n",
    "    try:\n",
    "        with open(input_filename, 'r') as infile, open(output_filename, 'w') as outfile:\n",
    "            for line in infile:\n",
    "                try:\n",
    "                    x = float(line.strip())\n",
    "                    result = calculate_expression(x)\n",
    "                    outfile.write(f\"x = {x}, f(x) = {result:.4f}\\n\")\n",
    "                except ValueError:\n",
    "                    outfile.write(f\"Error: Invalid value '{line.strip()}'\\n\")\n",
    "            print(\"Saving to file finished with success\")\n",
    "    except FileNotFoundError:\n",
    "        print(f\"Error: File '{input_filename}' does not exist.\")\n",
    "\n",
    "\n",
    "process_input(\"input.txt\", \"output.txt\")"
   ]
  },
  {
   "cell_type": "markdown",
   "metadata": {},
   "source": [
    "# Zadanie 4"
   ]
  },
  {
   "cell_type": "code",
   "execution_count": 4,
   "metadata": {},
   "outputs": [
    {
     "name": "stdout",
     "output_type": "stream",
     "text": [
      "1. Adding a product that is present in the cart:\n",
      "Quantity of Banana has been increased to 8.\n",
      "\n",
      "2. Removing a product that is present in the cart:\n",
      "Quantity of Bread has been decreased to 1.\n",
      "\n",
      "3. Adding a product that is not present in the cart:\n",
      "Product Chocolate was not found in the cart.\n",
      "\n",
      "4. Removing a product that is not present in the cart:\n",
      "Product Apple was not found in the cart.\n",
      "\n",
      "Total cost of the products in the cart: 24.98\n"
     ]
    }
   ],
   "source": [
    "\n",
    "class Product:\n",
    "    def __init__(self, name, price, quantity):\n",
    "        self.name = name\n",
    "        self.price = price\n",
    "        self.quantity = quantity\n",
    "\n",
    "class Cart:\n",
    "    def __init__(self):\n",
    "        self.products = [\n",
    "            Product(\"Pasta\", 3.99, 3), \n",
    "            Product(\"Bread\", 3.49, 2),\n",
    "            Product(\"Banana\", 1.19, 7)\n",
    "        ]\n",
    "\n",
    "    def add(self, product_to_add):\n",
    "        for product in self.products:\n",
    "            if product.name == product_to_add:\n",
    "                product.quantity += 1\n",
    "                print(f\"Quantity of {product.name} has been increased to {product.quantity}.\")\n",
    "                return\n",
    "        print(f\"Product {product_to_add} was not found in the cart.\")\n",
    "    \n",
    "    def remove(self, product_to_remove):\n",
    "        for product in self.products:\n",
    "            if product.name == product_to_remove:\n",
    "                if product.quantity > 0:\n",
    "                    product.quantity -= 1\n",
    "                    print(f\"Quantity of {product.name} has been decreased to {product.quantity}.\")\n",
    "                return\n",
    "        print(f\"Product {product_to_remove} was not found in the cart.\")\n",
    "    \n",
    "    def total_price(self):\n",
    "        price = 0\n",
    "        for product in self.products:\n",
    "            price += product.quantity * product.price\n",
    "        return price\n",
    "        \n",
    "\n",
    "cart = Cart()\n",
    "\n",
    "print(\"1. Adding a product that is present in the cart:\")\n",
    "cart.add(\"Banana\")\n",
    "\n",
    "print(\"\\n2. Removing a product that is present in the cart:\")\n",
    "cart.remove(\"Bread\")\n",
    "\n",
    "print(\"\\n3. Adding a product that is not present in the cart:\")\n",
    "cart.add(\"Chocolate\")\n",
    "\n",
    "print(\"\\n4. Removing a product that is not present in the cart:\")\n",
    "cart.remove(\"Apple\")\n",
    "\n",
    "print(f\"\\nTotal cost of the products in the cart: {cart.total_price()}\")\n",
    "        "
   ]
  },
  {
   "cell_type": "markdown",
   "metadata": {},
   "source": [
    "# Zadanie 5"
   ]
  },
  {
   "cell_type": "code",
   "execution_count": 5,
   "metadata": {},
   "outputs": [
    {
     "name": "stdout",
     "output_type": "stream",
     "text": [
      "1. __len__ method of a Cart class:\n",
      "len(cart) = 12\n",
      "\n",
      "2. __str__ method of a Cart class:\n",
      "Pasta, quantity: 3\n",
      "Bread, quantity: 2\n",
      "Banana, quantity: 7\n",
      "\n",
      "3. Iterating over Products in Cart and __str__ method of a Product class:\n",
      "Pasta, price: 3.99\n",
      "Bread, price: 3.49\n",
      "Banana, price: 1.19\n"
     ]
    }
   ],
   "source": [
    "\n",
    "class Product:\n",
    "    def __init__(self, name, price, quantity):\n",
    "        self.name = name\n",
    "        self.price = price\n",
    "        self.quantity = quantity\n",
    "\n",
    "    def __str__(self):\n",
    "        return f\"{self.name}, price: {self.price}\"\n",
    "\n",
    "class Cart:\n",
    "    def __init__(self):\n",
    "        self.products = [\n",
    "            Product(\"Pasta\", 3.99, 3), \n",
    "            Product(\"Bread\", 3.49, 2),\n",
    "            Product(\"Banana\", 1.19, 7)\n",
    "        ]\n",
    "\n",
    "    def __str__(self):\n",
    "        products_with_quantity = \"\"\n",
    "        for product in self.products:\n",
    "            products_with_quantity += f\"{product.name}, quantity: {product.quantity}\\n\"\n",
    "        return products_with_quantity\n",
    "\n",
    "    def __len__(self):\n",
    "        quantity_sum = 0\n",
    "        for product in self.products:\n",
    "            quantity_sum += product.quantity\n",
    "        return quantity_sum\n",
    "\n",
    "    # used to initialize the iteration process and should return an iterator (the object with the __next__ method)\n",
    "    def __iter__(self):\n",
    "        self.iter_index = 0 # reset the index for a new iteration\n",
    "        return self # return the object itself as the iterator\n",
    "\n",
    "    # used to get the next item in the iteration and will raise StopIteration when the iteration is complete\n",
    "    def __next__(self):\n",
    "        if self.iter_index < len(self.products):\n",
    "            product = self.products[self.iter_index]\n",
    "            self.iter_index += 1\n",
    "            return product\n",
    "        else:\n",
    "            raise StopIteration \n",
    "    \n",
    "    def add(self, product_to_add):\n",
    "        for product in self.products:\n",
    "            if product.name == product_to_add:\n",
    "                product.quantity += 1\n",
    "                print(f\"Quantity of {product.name} has been increased to {product.quantity}.\")\n",
    "                return\n",
    "        print(f\"Product {product_to_add} was not found in the cart.\")\n",
    "    \n",
    "    def remove(self, product_to_remove):\n",
    "        for product in self.products:\n",
    "            if product.name == product_to_remove:\n",
    "                if product.quantity > 0:\n",
    "                    product.quantity -= 1\n",
    "                    print(f\"Quantity of {product.name} has been decreased to {product.quantity}.\")\n",
    "                return\n",
    "        print(f\"Product {product_to_remove} was not found in the cart.\")\n",
    "    \n",
    "    def total_price(self):\n",
    "        price = 0\n",
    "        for product in self.products:\n",
    "            price += product.quantity * product.price\n",
    "        return price\n",
    "        \n",
    "\n",
    "cart = Cart()\n",
    "\n",
    "print(\"1. __len__ method of a Cart class:\")\n",
    "print(f\"len(cart) = {len(cart)}\\n\")\n",
    "\n",
    "print(\"2. __str__ method of a Cart class:\")\n",
    "print(str(cart))\n",
    "\n",
    "print(\"3. Iterating over Products in Cart and __str__ method of a Product class:\")\n",
    "for product in cart:\n",
    "    print(str(product))\n",
    "        "
   ]
  },
  {
   "cell_type": "code",
   "execution_count": null,
   "metadata": {},
   "outputs": [],
   "source": []
  }
 ],
 "metadata": {
  "kernelspec": {
   "display_name": "Python 3 (ipykernel)",
   "language": "python",
   "name": "python3"
  },
  "language_info": {
   "codemirror_mode": {
    "name": "ipython",
    "version": 3
   },
   "file_extension": ".py",
   "mimetype": "text/x-python",
   "name": "python",
   "nbconvert_exporter": "python",
   "pygments_lexer": "ipython3",
   "version": "3.10.12"
  }
 },
 "nbformat": 4,
 "nbformat_minor": 4
}
